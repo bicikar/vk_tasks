{
 "cells": [
  {
   "cell_type": "markdown",
   "id": "857bd500",
   "metadata": {},
   "source": [
    "# Задача 2"
   ]
  },
  {
   "cell_type": "code",
   "execution_count": 1,
   "id": "ded26394",
   "metadata": {},
   "outputs": [],
   "source": [
    "import pandas as pd\n",
    "import numpy as np\n",
    "import matplotlib.pyplot as plt\n",
    "\n",
    "%matplotlib inline"
   ]
  },
  {
   "cell_type": "code",
   "execution_count": 2,
   "id": "92dc47ca",
   "metadata": {},
   "outputs": [
    {
     "data": {
      "text/html": [
       "<div>\n",
       "<style scoped>\n",
       "    .dataframe tbody tr th:only-of-type {\n",
       "        vertical-align: middle;\n",
       "    }\n",
       "\n",
       "    .dataframe tbody tr th {\n",
       "        vertical-align: top;\n",
       "    }\n",
       "\n",
       "    .dataframe thead th {\n",
       "        text-align: right;\n",
       "    }\n",
       "</style>\n",
       "<table border=\"1\" class=\"dataframe\">\n",
       "  <thead>\n",
       "    <tr style=\"text-align: right;\">\n",
       "      <th></th>\n",
       "      <th>battle_id</th>\n",
       "      <th>unit_1</th>\n",
       "      <th>unit_2</th>\n",
       "      <th>unit_3</th>\n",
       "      <th>unit_4</th>\n",
       "      <th>len</th>\n",
       "      <th>balance_mark</th>\n",
       "    </tr>\n",
       "  </thead>\n",
       "  <tbody>\n",
       "    <tr>\n",
       "      <th>0</th>\n",
       "      <td>103921</td>\n",
       "      <td>топор</td>\n",
       "      <td>лук</td>\n",
       "      <td>булава</td>\n",
       "      <td>лук</td>\n",
       "      <td>17.35</td>\n",
       "      <td>before</td>\n",
       "    </tr>\n",
       "    <tr>\n",
       "      <th>1</th>\n",
       "      <td>117214</td>\n",
       "      <td>посох</td>\n",
       "      <td>посох</td>\n",
       "      <td>лук</td>\n",
       "      <td>лук</td>\n",
       "      <td>21.84</td>\n",
       "      <td>before</td>\n",
       "    </tr>\n",
       "    <tr>\n",
       "      <th>2</th>\n",
       "      <td>115502</td>\n",
       "      <td>меч</td>\n",
       "      <td>посох</td>\n",
       "      <td>булава</td>\n",
       "      <td>топор</td>\n",
       "      <td>16.00</td>\n",
       "      <td>before</td>\n",
       "    </tr>\n",
       "    <tr>\n",
       "      <th>3</th>\n",
       "      <td>110102</td>\n",
       "      <td>булава</td>\n",
       "      <td>лук</td>\n",
       "      <td>лук</td>\n",
       "      <td>булава</td>\n",
       "      <td>17.22</td>\n",
       "      <td>before</td>\n",
       "    </tr>\n",
       "    <tr>\n",
       "      <th>4</th>\n",
       "      <td>104989</td>\n",
       "      <td>меч</td>\n",
       "      <td>посох</td>\n",
       "      <td>булава</td>\n",
       "      <td>посох</td>\n",
       "      <td>19.20</td>\n",
       "      <td>before</td>\n",
       "    </tr>\n",
       "  </tbody>\n",
       "</table>\n",
       "</div>"
      ],
      "text/plain": [
       "   battle_id  unit_1 unit_2  unit_3  unit_4    len balance_mark\n",
       "0     103921   топор    лук  булава     лук  17.35       before\n",
       "1     117214   посох  посох     лук     лук  21.84       before\n",
       "2     115502     меч  посох  булава   топор  16.00       before\n",
       "3     110102  булава    лук     лук  булава  17.22       before\n",
       "4     104989     меч  посох  булава   посох  19.20       before"
      ]
     },
     "execution_count": 2,
     "metadata": {},
     "output_type": "execute_result"
    }
   ],
   "source": [
    "df = pd.read_csv('data_test.csv', encoding='cp1251')\n",
    "df.head()"
   ]
  },
  {
   "cell_type": "code",
   "execution_count": 3,
   "id": "b4a31336",
   "metadata": {},
   "outputs": [
    {
     "name": "stdout",
     "output_type": "stream",
     "text": [
      "['булава' 'лук' 'меч' 'посох' 'топор']\n",
      "['булава' 'лук' 'меч' 'посох' 'топор']\n",
      "['булава' 'лук' 'меч' 'посох' 'топор']\n",
      "['булава' 'лук' 'меч' 'посох' 'топор']\n"
     ]
    }
   ],
   "source": [
    "print(np.unique(df[\"unit_1\"]))\n",
    "print(np.unique(df[\"unit_2\"]))\n",
    "print(np.unique(df[\"unit_3\"]))\n",
    "print(np.unique(df[\"unit_4\"]))"
   ]
  },
  {
   "cell_type": "markdown",
   "id": "132c7b7c",
   "metadata": {},
   "source": [
    "Всего 5 возможных типов оружия"
   ]
  },
  {
   "cell_type": "code",
   "execution_count": 4,
   "id": "f6b35301",
   "metadata": {},
   "outputs": [
    {
     "data": {
      "text/html": [
       "<div>\n",
       "<style scoped>\n",
       "    .dataframe tbody tr th:only-of-type {\n",
       "        vertical-align: middle;\n",
       "    }\n",
       "\n",
       "    .dataframe tbody tr th {\n",
       "        vertical-align: top;\n",
       "    }\n",
       "\n",
       "    .dataframe thead th {\n",
       "        text-align: right;\n",
       "    }\n",
       "</style>\n",
       "<table border=\"1\" class=\"dataframe\">\n",
       "  <thead>\n",
       "    <tr style=\"text-align: right;\">\n",
       "      <th></th>\n",
       "      <th>battle_id</th>\n",
       "      <th>unit_1</th>\n",
       "      <th>unit_2</th>\n",
       "      <th>unit_3</th>\n",
       "      <th>unit_4</th>\n",
       "      <th>len</th>\n",
       "      <th>balance_mark</th>\n",
       "    </tr>\n",
       "  </thead>\n",
       "  <tbody>\n",
       "    <tr>\n",
       "      <th>0</th>\n",
       "      <td>103921</td>\n",
       "      <td>топор</td>\n",
       "      <td>лук</td>\n",
       "      <td>булава</td>\n",
       "      <td>лук</td>\n",
       "      <td>17.35</td>\n",
       "      <td>0</td>\n",
       "    </tr>\n",
       "    <tr>\n",
       "      <th>1</th>\n",
       "      <td>117214</td>\n",
       "      <td>посох</td>\n",
       "      <td>посох</td>\n",
       "      <td>лук</td>\n",
       "      <td>лук</td>\n",
       "      <td>21.84</td>\n",
       "      <td>0</td>\n",
       "    </tr>\n",
       "    <tr>\n",
       "      <th>2</th>\n",
       "      <td>115502</td>\n",
       "      <td>меч</td>\n",
       "      <td>посох</td>\n",
       "      <td>булава</td>\n",
       "      <td>топор</td>\n",
       "      <td>16.00</td>\n",
       "      <td>0</td>\n",
       "    </tr>\n",
       "    <tr>\n",
       "      <th>3</th>\n",
       "      <td>110102</td>\n",
       "      <td>булава</td>\n",
       "      <td>лук</td>\n",
       "      <td>лук</td>\n",
       "      <td>булава</td>\n",
       "      <td>17.22</td>\n",
       "      <td>0</td>\n",
       "    </tr>\n",
       "    <tr>\n",
       "      <th>4</th>\n",
       "      <td>104989</td>\n",
       "      <td>меч</td>\n",
       "      <td>посох</td>\n",
       "      <td>булава</td>\n",
       "      <td>посох</td>\n",
       "      <td>19.20</td>\n",
       "      <td>0</td>\n",
       "    </tr>\n",
       "  </tbody>\n",
       "</table>\n",
       "</div>"
      ],
      "text/plain": [
       "   battle_id  unit_1 unit_2  unit_3  unit_4    len  balance_mark\n",
       "0     103921   топор    лук  булава     лук  17.35             0\n",
       "1     117214   посох  посох     лук     лук  21.84             0\n",
       "2     115502     меч  посох  булава   топор  16.00             0\n",
       "3     110102  булава    лук     лук  булава  17.22             0\n",
       "4     104989     меч  посох  булава   посох  19.20             0"
      ]
     },
     "execution_count": 4,
     "metadata": {},
     "output_type": "execute_result"
    }
   ],
   "source": [
    "df[\"balance_mark\"].replace({'before': 0, 'after': 1}, inplace = True)\n",
    "df.head()"
   ]
  },
  {
   "cell_type": "code",
   "execution_count": 5,
   "id": "1a34a5ae",
   "metadata": {},
   "outputs": [],
   "source": [
    "df[\"unit_1\"].replace({'булава': 'b', 'лук': 'l', 'меч': 'm', 'посох': 'p', 'топор': 't'}, inplace=True)\n",
    "df[\"unit_2\"].replace({'булава': 'b', 'лук': 'l', 'меч': 'm', 'посох': 'p', 'топор': 't'}, inplace=True)\n",
    "df[\"unit_3\"].replace({'булава': 'b', 'лук': 'l', 'меч': 'm', 'посох': 'p', 'топор': 't'}, inplace=True)\n",
    "df[\"unit_4\"].replace({'булава': 'b', 'лук': 'l', 'меч': 'm', 'посох': 'p', 'топор': 't'}, inplace=True)"
   ]
  },
  {
   "cell_type": "code",
   "execution_count": 6,
   "id": "a1c24806",
   "metadata": {},
   "outputs": [
    {
     "data": {
      "text/html": [
       "<div>\n",
       "<style scoped>\n",
       "    .dataframe tbody tr th:only-of-type {\n",
       "        vertical-align: middle;\n",
       "    }\n",
       "\n",
       "    .dataframe tbody tr th {\n",
       "        vertical-align: top;\n",
       "    }\n",
       "\n",
       "    .dataframe thead th {\n",
       "        text-align: right;\n",
       "    }\n",
       "</style>\n",
       "<table border=\"1\" class=\"dataframe\">\n",
       "  <thead>\n",
       "    <tr style=\"text-align: right;\">\n",
       "      <th></th>\n",
       "      <th>battle_id</th>\n",
       "      <th>unit_1</th>\n",
       "      <th>unit_2</th>\n",
       "      <th>unit_3</th>\n",
       "      <th>unit_4</th>\n",
       "      <th>len</th>\n",
       "      <th>balance_mark</th>\n",
       "    </tr>\n",
       "  </thead>\n",
       "  <tbody>\n",
       "    <tr>\n",
       "      <th>0</th>\n",
       "      <td>103921</td>\n",
       "      <td>t</td>\n",
       "      <td>l</td>\n",
       "      <td>b</td>\n",
       "      <td>l</td>\n",
       "      <td>17.35</td>\n",
       "      <td>0</td>\n",
       "    </tr>\n",
       "    <tr>\n",
       "      <th>1</th>\n",
       "      <td>117214</td>\n",
       "      <td>p</td>\n",
       "      <td>p</td>\n",
       "      <td>l</td>\n",
       "      <td>l</td>\n",
       "      <td>21.84</td>\n",
       "      <td>0</td>\n",
       "    </tr>\n",
       "    <tr>\n",
       "      <th>2</th>\n",
       "      <td>115502</td>\n",
       "      <td>m</td>\n",
       "      <td>p</td>\n",
       "      <td>b</td>\n",
       "      <td>t</td>\n",
       "      <td>16.00</td>\n",
       "      <td>0</td>\n",
       "    </tr>\n",
       "    <tr>\n",
       "      <th>3</th>\n",
       "      <td>110102</td>\n",
       "      <td>b</td>\n",
       "      <td>l</td>\n",
       "      <td>l</td>\n",
       "      <td>b</td>\n",
       "      <td>17.22</td>\n",
       "      <td>0</td>\n",
       "    </tr>\n",
       "    <tr>\n",
       "      <th>4</th>\n",
       "      <td>104989</td>\n",
       "      <td>m</td>\n",
       "      <td>p</td>\n",
       "      <td>b</td>\n",
       "      <td>p</td>\n",
       "      <td>19.20</td>\n",
       "      <td>0</td>\n",
       "    </tr>\n",
       "  </tbody>\n",
       "</table>\n",
       "</div>"
      ],
      "text/plain": [
       "   battle_id unit_1 unit_2 unit_3 unit_4    len  balance_mark\n",
       "0     103921      t      l      b      l  17.35             0\n",
       "1     117214      p      p      l      l  21.84             0\n",
       "2     115502      m      p      b      t  16.00             0\n",
       "3     110102      b      l      l      b  17.22             0\n",
       "4     104989      m      p      b      p  19.20             0"
      ]
     },
     "execution_count": 6,
     "metadata": {},
     "output_type": "execute_result"
    }
   ],
   "source": [
    "df.head()"
   ]
  },
  {
   "cell_type": "code",
   "execution_count": 7,
   "id": "90f20160",
   "metadata": {},
   "outputs": [],
   "source": [
    "stats_before = {}\n",
    "stats_after = {}\n",
    "\n",
    "for index, row in df.iterrows():\n",
    "    army = row['unit_1'] + row['unit_2'] + row['unit_3'] + row['unit_4']\n",
    "    army = ''.join(sorted(army))\n",
    "    if row['balance_mark'] == 0:\n",
    "        if army in stats_before:\n",
    "            stats_before[army].append(float(row['len']))\n",
    "        else:\n",
    "            stats_before[army] = []\n",
    "            stats_before[army].append(float(row['len']))\n",
    "    else:\n",
    "        if army in stats_after:\n",
    "            stats_after[army].append(float(row['len']))\n",
    "        else:\n",
    "            stats_after[army] = []\n",
    "            stats_after[army].append(float(row['len']))"
   ]
  },
  {
   "cell_type": "code",
   "execution_count": 8,
   "id": "6bf6a89e",
   "metadata": {},
   "outputs": [],
   "source": [
    "data_before = []\n",
    "data_after = []\n",
    "\n",
    "for key, value in stats_before.items():\n",
    "    data_before += value\n",
    "    \n",
    "for key, value in stats_after.items():\n",
    "    data_after += value"
   ]
  },
  {
   "cell_type": "markdown",
   "id": "93e61b75",
   "metadata": {},
   "source": [
    "Для начала построим диаграммы размаха для результатов до и после обновления вне зависимости от типа текущего набора солдат. "
   ]
  },
  {
   "cell_type": "code",
   "execution_count": 9,
   "id": "6df1ddd2",
   "metadata": {},
   "outputs": [
    {
     "data": {
      "image/png": "[encoded data removed]",
      "text/plain": [
       "<Figure size 720x576 with 1 Axes>"
      ]
     },
     "metadata": {
      "needs_background": "light"
     },
     "output_type": "display_data"
    }
   ],
   "source": [
    "fig = plt.figure(figsize = (10, 8))\n",
    "ax = fig.add_subplot(111)\n",
    "bp = plt.boxplot([data_before, data_after])\n",
    "ax.set_xticklabels(['data before', 'data after'])\n",
    "plt.show()"
   ]
  },
  {
   "cell_type": "markdown",
   "id": "988068d7",
   "metadata": {},
   "source": [
    "Видно, что в среднем время боя увеличилось после обновления, однако при этом сильно опустилась нижняя наблюдаемая граница и появилось слишком много выбросов (?) с маленьким временем боя. Проанализируем по отдельности для всех разновидностей боя"
   ]
  },
  {
   "cell_type": "code",
   "execution_count": 10,
   "id": "95cdb1ac",
   "metadata": {},
   "outputs": [
    {
     "name": "stdout",
     "output_type": "stream",
     "text": [
      "70\n",
      "70\n"
     ]
    }
   ],
   "source": [
    "print(len(stats_before))\n",
    "print(len(stats_after))"
   ]
  },
  {
   "cell_type": "code",
   "execution_count": 11,
   "id": "b1eb7bae",
   "metadata": {},
   "outputs": [
    {
     "name": "stdout",
     "output_type": "stream",
     "text": [
      "Среднее значение разноти после и до: 3.74\n",
      "Медианное значение среди разноти времени после и до: 4.77\n",
      "Среднеквадратическое отклонение: 2.64\n",
      "Разница времени боя после изменений и до для каждой комбинации:\n",
      "('bbmt', -10.85)\n",
      "('mmtt', -0.75)\n",
      "('bbbt', -0.7)\n",
      "('bmtt', -0.29)\n",
      "('bbtt', -0.28)\n",
      "('bbmm', -0.07)\n",
      "('mmmt', 0.17)\n",
      "('bttt', 0.18)\n",
      "('bbbm', 0.18)\n",
      "('bmmt', 0.25)\n",
      "('bbbb', 0.29)\n",
      "('mttt', 0.8)\n",
      "('bmmm', 0.82)\n",
      "('tttt', 1.58)\n",
      "('llll', 2.03)\n",
      "('mmmm', 2.15)\n",
      "('lllp', 2.8)\n",
      "('llmm', 3.78)\n",
      "('mmpt', 3.82)\n",
      "('bblm', 3.86)\n",
      "('pppp', 3.92)\n",
      "('lmmt', 4.13)\n",
      "('lmmp', 4.18)\n",
      "('bbbl', 4.18)\n",
      "('bppt', 4.21)\n",
      "('bbpt', 4.33)\n",
      "('blpp', 4.39)\n",
      "('mmmp', 4.43)\n",
      "('blll', 4.52)\n",
      "('bllt', 4.61)\n",
      "('lmmm', 4.62)\n",
      "('pptt', 4.66)\n",
      "('bbll', 4.72)\n",
      "('pttt', 4.72)\n",
      "('blmm', 4.75)\n",
      "('lttt', 4.79)\n",
      "('lmpt', 4.81)\n",
      "('pppt', 4.82)\n",
      "('bmmp', 4.83)\n",
      "('blpt', 4.84)\n",
      "('lllm', 4.89)\n",
      "('blmt', 4.91)\n",
      "('bmpt', 4.93)\n",
      "('llpt', 4.95)\n",
      "('bllm', 4.95)\n",
      "('lmpp', 4.98)\n",
      "('bmpp', 5.01)\n",
      "('llpp', 5.09)\n",
      "('bblp', 5.11)\n",
      "('lltt', 5.14)\n",
      "('bptt', 5.26)\n",
      "('bppp', 5.26)\n",
      "('lllt', 5.32)\n",
      "('bllp', 5.44)\n",
      "('llmp', 5.44)\n",
      "('blmp', 5.44)\n",
      "('mppp', 5.45)\n",
      "('bblt', 5.45)\n",
      "('lppp', 5.47)\n",
      "('bltt', 5.53)\n",
      "('bbpp', 5.54)\n",
      "('lptt', 5.54)\n",
      "('llmt', 5.54)\n",
      "('mmpp', 5.56)\n",
      "('lmtt', 5.67)\n",
      "('bbmp', 5.83)\n",
      "('lppt', 5.89)\n",
      "('mptt', 5.91)\n",
      "('mppt', 6.03)\n",
      "('bbbp', 6.08)\n"
     ]
    }
   ],
   "source": [
    "median_diff = 0\n",
    "median_diffs = []\n",
    "\n",
    "for key, value in stats_before.items():\n",
    "    median_diff += np.median(stats_after[key]) - np.median(value)\n",
    "    median_diffs.append(round(np.median(stats_after[key]) - np.median(value), 2))\n",
    "    \n",
    "print('Среднее значение разноти после и до:', round(median_diff / 70, 2))\n",
    "print('Медианное значение среди разноти времени после и до:', np.median(median_diffs))\n",
    "print('Среднеквадратическое отклонение:', round(np.std(median_diffs), 2))\n",
    "print('Разница времени боя после изменений и до для каждой комбинации:')\n",
    "for el in sorted(list(zip(stats_before.keys(), median_diffs)), key=lambda x: x[1]):\n",
    "    print(el)"
   ]
  },
  {
   "cell_type": "markdown",
   "id": "3ef4be25",
   "metadata": {},
   "source": [
    "Медианное значение времени боя в основном увеличилось. Среднее значение разности больше чем std, изменения значимые. Также стоит отдельно обратить внимание на баланс комбинации \"булава-булава-молот-топор\", т.к. в таком сочетании наблюдается сильное уменьшение времени боя."
   ]
  },
  {
   "cell_type": "code",
   "execution_count": 12,
   "id": "40d460ec",
   "metadata": {},
   "outputs": [
    {
     "data": {
      "image/png": "[encoded data removed]",
      "text/plain": [
       "<Figure size 720x576 with 1 Axes>"
      ]
     },
     "metadata": {
      "needs_background": "light"
     },
     "output_type": "display_data"
    }
   ],
   "source": [
    "fig = plt.figure(figsize = (10, 8))\n",
    "ax = fig.add_subplot(111)\n",
    "bp = plt.boxplot([stats_before['bbmt'], stats_after['bbmt']])\n",
    "ax.set_xticklabels(['data before', 'data after'])\n",
    "plt.show()"
   ]
  },
  {
   "cell_type": "markdown",
   "id": "8b297ea8",
   "metadata": {},
   "source": [
    "# Задача 3"
   ]
  },
  {
   "cell_type": "markdown",
   "id": "492515dc",
   "metadata": {},
   "source": [
    "Сделаем перебор, хе-хе"
   ]
  },
  {
   "cell_type": "code",
   "execution_count": 13,
   "id": "91b2e787",
   "metadata": {},
   "outputs": [
    {
     "name": "stdout",
     "output_type": "stream",
     "text": [
      "Число исходов полностью собранного сета: 540\n",
      "Число возможных исзодов: 729\n",
      "Вероятность: 0.7407407407407407\n"
     ]
    }
   ],
   "source": [
    "full_set = 0\n",
    "all_variants = 0\n",
    "\n",
    "for a in range(3):\n",
    "    for b in range(3):\n",
    "        for c in range(3):\n",
    "            for d in range(3):\n",
    "                for e in range(3):\n",
    "                    for f in range(3):\n",
    "                        taken = [a, b, c, d, e, f]\n",
    "                        if 0 in taken and 1 in taken and 2 in taken:\n",
    "                            full_set += 1\n",
    "                        all_variants += 1\n",
    "                        \n",
    "print('Число исходов полностью собранного сета:', full_set)\n",
    "print('Число возможных исзодов:', all_variants)\n",
    "\n",
    "print('Вероятность:', full_set / all_variants)"
   ]
  },
  {
   "cell_type": "code",
   "execution_count": null,
   "id": "6f68f03c",
   "metadata": {},
   "outputs": [],
   "source": []
  }
 ],
 "metadata": {
  "kernelspec": {
   "display_name": "Python 3 (ipykernel)",
   "language": "python",
   "name": "python3"
  },
  "language_info": {
   "codemirror_mode": {
    "name": "ipython",
    "version": 3
   },
   "file_extension": ".py",
   "mimetype": "text/x-python",
   "name": "python",
   "nbconvert_exporter": "python",
   "pygments_lexer": "ipython3",
   "version": "3.8.10"
  }
 },
 "nbformat": 4,
 "nbformat_minor": 5
}
